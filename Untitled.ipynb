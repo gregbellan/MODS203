{
 "cells": [
  {
   "cell_type": "code",
   "execution_count": 1,
   "metadata": {},
   "outputs": [
    {
     "data": {
      "text/html": [
       "<div>\n",
       "<style scoped>\n",
       "    .dataframe tbody tr th:only-of-type {\n",
       "        vertical-align: middle;\n",
       "    }\n",
       "\n",
       "    .dataframe tbody tr th {\n",
       "        vertical-align: top;\n",
       "    }\n",
       "\n",
       "    .dataframe thead th {\n",
       "        text-align: right;\n",
       "    }\n",
       "</style>\n",
       "<table border=\"1\" class=\"dataframe\">\n",
       "  <thead>\n",
       "    <tr style=\"text-align: right;\">\n",
       "      <th></th>\n",
       "      <th>Game ID</th>\n",
       "      <th>Genres</th>\n",
       "      <th>Developers</th>\n",
       "      <th>Publishers</th>\n",
       "      <th>Release date</th>\n",
       "      <th>Current price in €</th>\n",
       "      <th>Number of reviews</th>\n",
       "      <th>Positive rate in reviews in %</th>\n",
       "      <th>SteamDB score in %</th>\n",
       "      <th>Minimum requirements</th>\n",
       "      <th>Min configuration class</th>\n",
       "    </tr>\n",
       "  </thead>\n",
       "  <tbody>\n",
       "    <tr>\n",
       "      <th>0</th>\n",
       "      <td>568070</td>\n",
       "      <td>['Action', 'Adventure', 'Indie']</td>\n",
       "      <td>['Triplevision Games']</td>\n",
       "      <td>['Graffiti Games']</td>\n",
       "      <td>2019-08-23</td>\n",
       "      <td>3.12</td>\n",
       "      <td>58</td>\n",
       "      <td>60.0</td>\n",
       "      <td>57.31</td>\n",
       "      <td>{'Processor': ' 2ghz dual core cpu', 'Memory':...</td>\n",
       "      <td>1</td>\n",
       "    </tr>\n",
       "    <tr>\n",
       "      <th>1</th>\n",
       "      <td>568090</td>\n",
       "      <td>['Action', 'Indie']</td>\n",
       "      <td>['Waygetter Electronics']</td>\n",
       "      <td>['Little Flag Software, LLC']</td>\n",
       "      <td>2016-12-28</td>\n",
       "      <td>2.39</td>\n",
       "      <td>2027</td>\n",
       "      <td>91.0</td>\n",
       "      <td>87.13</td>\n",
       "      <td>{'Processor': ' 2.0 ghz dual core processor', ...</td>\n",
       "      <td>1</td>\n",
       "    </tr>\n",
       "    <tr>\n",
       "      <th>2</th>\n",
       "      <td>568130</td>\n",
       "      <td>['Action', 'Adventure', 'Indie']</td>\n",
       "      <td>['Nickana Studio']</td>\n",
       "      <td>['Nickana Studio']</td>\n",
       "      <td>2017-01-03</td>\n",
       "      <td>3.99</td>\n",
       "      <td>20</td>\n",
       "      <td>65.0</td>\n",
       "      <td>59.00</td>\n",
       "      <td>{'Processor': ' 1.4ghz or faster', 'Memory': '...</td>\n",
       "      <td>0</td>\n",
       "    </tr>\n",
       "    <tr>\n",
       "      <th>3</th>\n",
       "      <td>568180</td>\n",
       "      <td>['Action', 'Adventure', 'Indie']</td>\n",
       "      <td>['Sword Twin Studios Ltd.']</td>\n",
       "      <td>['Sword Twin Studios Ltd.']</td>\n",
       "      <td>2017-03-31</td>\n",
       "      <td>0.00</td>\n",
       "      <td>12</td>\n",
       "      <td>92.0</td>\n",
       "      <td>72.42</td>\n",
       "      <td>{'Processor': ' 2.5 ghz dual core', 'Memory': ...</td>\n",
       "      <td>1</td>\n",
       "    </tr>\n",
       "    <tr>\n",
       "      <th>4</th>\n",
       "      <td>568200</td>\n",
       "      <td>['Casual', 'Indie']</td>\n",
       "      <td>['Bruno Freitas']</td>\n",
       "      <td>['Bruno Freitas']</td>\n",
       "      <td>2016-12-19</td>\n",
       "      <td>1.99</td>\n",
       "      <td>28</td>\n",
       "      <td>93.0</td>\n",
       "      <td>77.30</td>\n",
       "      <td>{'Processor': ' intel/amd dual core 1,2ghz', '...</td>\n",
       "      <td>1</td>\n",
       "    </tr>\n",
       "  </tbody>\n",
       "</table>\n",
       "</div>"
      ],
      "text/plain": [
       "   Game ID                            Genres                   Developers  \\\n",
       "0   568070  ['Action', 'Adventure', 'Indie']       ['Triplevision Games']   \n",
       "1   568090               ['Action', 'Indie']    ['Waygetter Electronics']   \n",
       "2   568130  ['Action', 'Adventure', 'Indie']           ['Nickana Studio']   \n",
       "3   568180  ['Action', 'Adventure', 'Indie']  ['Sword Twin Studios Ltd.']   \n",
       "4   568200               ['Casual', 'Indie']            ['Bruno Freitas']   \n",
       "\n",
       "                      Publishers Release date  Current price in €  \\\n",
       "0             ['Graffiti Games']   2019-08-23                3.12   \n",
       "1  ['Little Flag Software, LLC']   2016-12-28                2.39   \n",
       "2             ['Nickana Studio']   2017-01-03                3.99   \n",
       "3    ['Sword Twin Studios Ltd.']   2017-03-31                0.00   \n",
       "4              ['Bruno Freitas']   2016-12-19                1.99   \n",
       "\n",
       "   Number of reviews  Positive rate in reviews in %  SteamDB score in %  \\\n",
       "0                 58                           60.0               57.31   \n",
       "1               2027                           91.0               87.13   \n",
       "2                 20                           65.0               59.00   \n",
       "3                 12                           92.0               72.42   \n",
       "4                 28                           93.0               77.30   \n",
       "\n",
       "                                Minimum requirements  Min configuration class  \n",
       "0  {'Processor': ' 2ghz dual core cpu', 'Memory':...                        1  \n",
       "1  {'Processor': ' 2.0 ghz dual core processor', ...                        1  \n",
       "2  {'Processor': ' 1.4ghz or faster', 'Memory': '...                        0  \n",
       "3  {'Processor': ' 2.5 ghz dual core', 'Memory': ...                        1  \n",
       "4  {'Processor': ' intel/amd dual core 1,2ghz', '...                        1  "
      ]
     },
     "execution_count": 1,
     "metadata": {},
     "output_type": "execute_result"
    }
   ],
   "source": [
    "import pandas as pd \n",
    "import numpy as np\n",
    "import matplotlib.pyplot as plt\n",
    "import seaborn as sn\n",
    "\n",
    "df = pd.read_csv('formated_data_new.csv')\n",
    "df.head(5)"
   ]
  },
  {
   "cell_type": "code",
   "execution_count": 2,
   "metadata": {},
   "outputs": [
    {
     "data": {
      "text/plain": [
       "count    17130.000000\n",
       "mean         0.717572\n",
       "std          0.973513\n",
       "min          0.000000\n",
       "25%          0.000000\n",
       "50%          0.000000\n",
       "75%          1.000000\n",
       "max          3.000000\n",
       "Name: Min configuration class, dtype: float64"
      ]
     },
     "execution_count": 2,
     "metadata": {},
     "output_type": "execute_result"
    }
   ],
   "source": [
    "df[\"Min configuration class\"].describe()"
   ]
  },
  {
   "cell_type": "code",
   "execution_count": 3,
   "metadata": {},
   "outputs": [
    {
     "data": {
      "text/plain": [
       "count    17130.000000\n",
       "mean         3.956926\n",
       "std          5.670593\n",
       "min          0.000000\n",
       "25%          0.470000\n",
       "50%          1.990000\n",
       "75%          4.990000\n",
       "max         79.990000\n",
       "Name: Current price in €, dtype: float64"
      ]
     },
     "execution_count": 3,
     "metadata": {},
     "output_type": "execute_result"
    }
   ],
   "source": [
    "df[\"Current price in €\"].describe()"
   ]
  },
  {
   "cell_type": "code",
   "execution_count": 4,
   "metadata": {},
   "outputs": [
    {
     "data": {
      "text/plain": [
       "count    17130.000000\n",
       "mean       337.571921\n",
       "std       2276.891658\n",
       "min          0.000000\n",
       "25%         10.000000\n",
       "50%         28.000000\n",
       "75%         95.000000\n",
       "max      85491.000000\n",
       "Name: Number of reviews, dtype: float64"
      ]
     },
     "execution_count": 4,
     "metadata": {},
     "output_type": "execute_result"
    }
   ],
   "source": [
    "df[\"Number of reviews\"].describe()"
   ]
  },
  {
   "cell_type": "code",
   "execution_count": 5,
   "metadata": {},
   "outputs": [
    {
     "data": {
      "text/plain": [
       "count    17130.000000\n",
       "mean        70.345067\n",
       "std         20.001861\n",
       "min          0.000000\n",
       "25%         57.000000\n",
       "50%         75.000000\n",
       "75%         87.000000\n",
       "max        100.000000\n",
       "Name: Positive rate in reviews in %, dtype: float64"
      ]
     },
     "execution_count": 5,
     "metadata": {},
     "output_type": "execute_result"
    }
   ],
   "source": [
    "df[\"Positive rate in reviews in %\"].describe()"
   ]
  },
  {
   "cell_type": "code",
   "execution_count": 6,
   "metadata": {},
   "outputs": [
    {
     "data": {
      "text/plain": [
       "count    17130.00000\n",
       "mean        64.04509\n",
       "std         13.86622\n",
       "min         18.23000\n",
       "25%         54.17000\n",
       "50%         64.78000\n",
       "75%         74.56750\n",
       "max         96.52000\n",
       "Name: SteamDB score in %, dtype: float64"
      ]
     },
     "execution_count": 6,
     "metadata": {},
     "output_type": "execute_result"
    }
   ],
   "source": [
    "df[\"SteamDB score in %\"].describe()"
   ]
  },
  {
   "cell_type": "code",
   "execution_count": null,
   "metadata": {},
   "outputs": [],
   "source": []
  }
 ],
 "metadata": {
  "kernelspec": {
   "display_name": "Python 3",
   "language": "python",
   "name": "python3"
  },
  "language_info": {
   "codemirror_mode": {
    "name": "ipython",
    "version": 3
   },
   "file_extension": ".py",
   "mimetype": "text/x-python",
   "name": "python",
   "nbconvert_exporter": "python",
   "pygments_lexer": "ipython3",
   "version": "3.8.3"
  }
 },
 "nbformat": 4,
 "nbformat_minor": 4
}
