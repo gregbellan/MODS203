{
 "cells": [
  {
   "cell_type": "code",
   "execution_count": 1,
   "metadata": {},
   "outputs": [],
   "source": [
    "import requests\n",
    "from bs4 import BeautifulSoup\n",
    "import pandas as pd\n",
    "import re"
   ]
  },
  {
   "cell_type": "code",
   "execution_count": 2,
   "metadata": {},
   "outputs": [
    {
     "name": "stdout",
     "output_type": "stream",
     "text": [
      "200\n"
     ]
    }
   ],
   "source": [
    "url = 'https://steamdb.info/'\n",
    "header = {'User-Agent': 'SteamDB-Educational-Access; victor.manach@telecom-paris.fr; telecom-paris.edu'}\n",
    "r = requests.get(url, headers=header)\n",
    "print(r.status_code)"
   ]
  },
  {
   "cell_type": "code",
<<<<<<< HEAD
   "execution_count": 4,
   "metadata": {},
   "outputs": [],
=======
   "execution_count": 3,
   "metadata": {},
   "outputs": [
    {
     "name": "stdout",
     "output_type": "stream",
     "text": [
      "\n",
      "\n",
      "\n",
      "\n",
      "  \n",
      "\n",
      "Access denied | steamdb.info used Cloudflare to restrict access\n",
      "\n",
      "\n",
      "\n",
      "\n",
      "\n",
      "\n",
      "\n",
      "\n",
      "\n",
      "Please enable cookies.\n",
      "\n",
      "\n",
      "\n",
      "Error\n",
      "1020\n",
      "\n",
      "Ray ID: 5fce58d0caa332bc •\n",
      "2020-12-05 14:09:47 UTC\n",
      "Access denied\n",
      "\n",
      "\n",
      "\n",
      "What happened?\n",
      "This website is using a security service to protect itself from online attacks.\n",
      "\n",
      "\n",
      "\n",
      "\n",
      "Cloudflare Ray ID: 5fce58d0caa332bc\n",
      "•\n",
      "Your IP: 2a04:8ec0:0:144:bdd6:8adb:551c:d4a2\n",
      "•\n",
      "Performance & security by Cloudflare\n",
      "\n",
      "\n",
      "\n",
      "\n",
      "\n",
      "  window._cf_translation = {};\n",
      "  \n",
      "  \n",
      "\n",
      "\n",
      "\n",
      "\n"
     ]
    }
   ],
>>>>>>> 77a63ac8ba65680fd784f98e250a856f1b0628bd
   "source": [
    "#print(r.text)\n",
    "bs = BeautifulSoup(r.text, 'html.parser')"
   ]
  },
  {
   "cell_type": "code",
   "execution_count": null,
   "metadata": {},
   "outputs": [],
   "source": []
  }
 ],
 "metadata": {
  "kernelspec": {
   "display_name": "Python 3",
   "language": "python",
   "name": "python3"
  },
  "language_info": {
   "codemirror_mode": {
    "name": "ipython",
    "version": 3
   },
   "file_extension": ".py",
   "mimetype": "text/x-python",
   "name": "python",
   "nbconvert_exporter": "python",
   "pygments_lexer": "ipython3",
   "version": "3.7.4"
  }
 },
 "nbformat": 4,
 "nbformat_minor": 4
}
