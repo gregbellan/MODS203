{
 "cells": [
  {
   "cell_type": "code",
   "execution_count": 1,
   "metadata": {},
   "outputs": [],
   "source": [
    "import requests\n",
    "import numpy as np\n",
    "from bs4 import BeautifulSoup\n",
    "import pandas as pd\n",
    "import re\n",
    "\n",
    "url = 'https://store.steampowered.com/search/?sort_by=Released_DESC&tags=-1&category1=998&page=1'"
   ]
  },
  {
   "cell_type": "code",
   "execution_count": 2,
   "metadata": {},
   "outputs": [],
   "source": [
    "r = requests.get(url)"
   ]
  },
  {
   "cell_type": "code",
   "execution_count": 3,
   "metadata": {},
   "outputs": [],
   "source": [
    "bs = BeautifulSoup(r.text, 'html.parser')"
   ]
  },
  {
   "cell_type": "code",
   "execution_count": 4,
   "metadata": {},
   "outputs": [
    {
     "name": "stdout",
     "output_type": "stream",
     "text": [
      "Found 25 games on the web page\n",
      "\n"
     ]
    }
   ],
   "source": [
    "games = bs.findAll('div', 'responsive_search_name_combined')\n",
    "print(\"Found {} games on the web page\\n\".format(len(games)))"
   ]
  },
  {
   "cell_type": "code",
   "execution_count": 5,
   "metadata": {
    "scrolled": true
   },
   "outputs": [],
   "source": [
    "for game in games:\n",
    "    title = game.find('span', 'title').contents[0]\n",
    "    if not game.find('div', 'col search_released responsive_secondrow').contents:\n",
    "        release_date = 'Unknown'\n",
    "    else:\n",
    "        release_date = game.find('div', 'col search_released responsive_secondrow').contents[0]\n",
    "    if game.find('div', 'col search_discount responsive_secondrow').find('span') is not None:\n",
    "        discount = game.find('div', 'col search_discount responsive_secondrow').find('span').contents[0]\n",
    "        usual_price = game.find('div', 'col search_price discounted responsive_secondrow').find('span').find('strike').contents[0]\n",
    "        discounted_price = game.find('div', 'col search_price discounted responsive_secondrow').contents[3]\n",
    "    else:\n",
    "        discount = None\n",
    "        discounted_price = None\n",
    "        usual_price = ' '.join(game.find('div', 'col search_price responsive_secondrow').contents[0].split())\n",
    "    \n",
    "    #print ('Title: {}\\nRelease date: {}\\nDiscount: {}\\nUsual price: {}\\nDiscounted price: {}\\n'.format(title,release_date, discount, usual_price, discounted_price))"
   ]
  },
  {
   "cell_type": "code",
   "execution_count": 6,
   "metadata": {
    "scrolled": false
   },
   "outputs": [],
   "source": [
    "def get_game_data(game):\n",
    "    item = {}\n",
    "    title = game.find('span', 'title').contents[0]\n",
    "    if not game.find('div', 'col search_released responsive_secondrow').contents:\n",
    "        release_date = 'Unknown'\n",
    "    else:\n",
    "        release_date = game.find('div', 'col search_released responsive_secondrow').contents[0]\n",
    "    if game.find('div', 'col search_discount responsive_secondrow').find('span') is not None:\n",
    "        discount = game.find('div', 'col search_discount responsive_secondrow').find('span').contents[0]\n",
    "        usual_price = game.find('div', 'col search_price discounted responsive_secondrow').find('span').find('strike').contents[0]\n",
    "        discounted_price = ' '.join(game.find('div', 'col search_price discounted responsive_secondrow').contents[3].split())\n",
    "    else:\n",
    "        discount = None\n",
    "        discounted_price = None\n",
    "        usual_price = ' '.join(game.find('div', 'col search_price responsive_secondrow').contents[0].split())\n",
    "    item = {\n",
    "        'title': title,\n",
    "        'release_date': release_date,\n",
    "        'discount': discount,\n",
    "        'usual_price': usual_price,\n",
    "        'discounted_price': discounted_price\n",
    "    }\n",
    "    return item\n",
    "\n",
    "def crawl_page(startswith):\n",
    "    url = 'https://store.steampowered.com/search/?sort_by=Released_DESC&tags=-1&category1=998&page={}'.format(startswith)\n",
    "    r = requests.get(url)\n",
    "    bs = BeautifulSoup(r.text, 'html.parser')\n",
    "    data, item = [], {}\n",
    "    games = bs.findAll('div', 'responsive_search_name_combined')\n",
    "    for game in games:\n",
    "        item = get_game_data(game)\n",
    "        data.append(item)\n",
    "    return data"
   ]
  },
  {
   "cell_type": "code",
   "execution_count": 13,
   "metadata": {
    "scrolled": false
   },
   "outputs": [
    {
     "name": "stdout",
     "output_type": "stream",
     "text": [
      "1675\n",
      "2\n",
      "3\n",
      "4\n",
      "5\n",
      "6\n",
      "7\n",
      "8\n",
      "9\n",
      "10\n"
     ]
    }
   ],
   "source": [
    "nb_games_per_page = 25\n",
    "nb_games = bs.find('div', 'responsive_page_template_content').find('script').contents[0]\n",
    "nItemCount = nb_games.find('nItemCount')\n",
    "nb_games = nb_games[nItemCount:]\n",
    "nb_games = nb_games[:nb_games.index(';')]\n",
    "nb_games = int(nb_games.split()[-1])\n",
    "nb_pages = int(np.ceil(nb_games / nb_games_per_page))\n",
    "print(nb_pages)\n",
    "\n",
    "data = crawl_page(1)\n",
    "df=pd.DataFrame(data)\n",
    "for i in range (2, 11):\n",
    "    print(i)\n",
    "    data=crawl_page(i)\n",
    "    #data_series = pd.Series(data)\n",
    "    df = df.append(data, ignore_index=True)"
   ]
  },
  {
   "cell_type": "code",
   "execution_count": 14,
   "metadata": {},
   "outputs": [
    {
     "data": {
      "text/html": [
       "<div>\n",
       "<style scoped>\n",
       "    .dataframe tbody tr th:only-of-type {\n",
       "        vertical-align: middle;\n",
       "    }\n",
       "\n",
       "    .dataframe tbody tr th {\n",
       "        vertical-align: top;\n",
       "    }\n",
       "\n",
       "    .dataframe thead th {\n",
       "        text-align: right;\n",
       "    }\n",
       "</style>\n",
       "<table border=\"1\" class=\"dataframe\">\n",
       "  <thead>\n",
       "    <tr style=\"text-align: right;\">\n",
       "      <th></th>\n",
       "      <th>title</th>\n",
       "      <th>release_date</th>\n",
       "      <th>discount</th>\n",
       "      <th>usual_price</th>\n",
       "      <th>discounted_price</th>\n",
       "    </tr>\n",
       "  </thead>\n",
       "  <tbody>\n",
       "    <tr>\n",
       "      <th>0</th>\n",
       "      <td>GRAVITY SHIFTER</td>\n",
       "      <td>5 Dec, 2020</td>\n",
       "      <td>None</td>\n",
       "      <td>20,99€</td>\n",
       "      <td>None</td>\n",
       "    </tr>\n",
       "    <tr>\n",
       "      <th>1</th>\n",
       "      <td>Snowball Fight At Christmas</td>\n",
       "      <td>5 Dec, 2020</td>\n",
       "      <td>-40%</td>\n",
       "      <td>3,29€</td>\n",
       "      <td>1,97€</td>\n",
       "    </tr>\n",
       "    <tr>\n",
       "      <th>2</th>\n",
       "      <td>Astro Dash</td>\n",
       "      <td>5 Dec, 2020</td>\n",
       "      <td>-20%</td>\n",
       "      <td>3,29€</td>\n",
       "      <td>2,63€</td>\n",
       "    </tr>\n",
       "    <tr>\n",
       "      <th>3</th>\n",
       "      <td>Last of Ass</td>\n",
       "      <td>5 Dec, 2020</td>\n",
       "      <td>-20%</td>\n",
       "      <td>2,39€</td>\n",
       "      <td>1,91€</td>\n",
       "    </tr>\n",
       "    <tr>\n",
       "      <th>4</th>\n",
       "      <td>Puzzzle</td>\n",
       "      <td>5 Dec, 2020</td>\n",
       "      <td>None</td>\n",
       "      <td>Free To Play</td>\n",
       "      <td>None</td>\n",
       "    </tr>\n",
       "    <tr>\n",
       "      <th>...</th>\n",
       "      <td>...</td>\n",
       "      <td>...</td>\n",
       "      <td>...</td>\n",
       "      <td>...</td>\n",
       "      <td>...</td>\n",
       "    </tr>\n",
       "    <tr>\n",
       "      <th>245</th>\n",
       "      <td>SPL: Skilled Pilots Live</td>\n",
       "      <td>1 Dec, 2020</td>\n",
       "      <td>-20%</td>\n",
       "      <td>12,49€</td>\n",
       "      <td>9,99€</td>\n",
       "    </tr>\n",
       "    <tr>\n",
       "      <th>246</th>\n",
       "      <td>Brain Meltdown - Into Despair</td>\n",
       "      <td>1 Dec, 2020</td>\n",
       "      <td>-20%</td>\n",
       "      <td>8,19€</td>\n",
       "      <td>6,55€</td>\n",
       "    </tr>\n",
       "    <tr>\n",
       "      <th>247</th>\n",
       "      <td>The Life and Suffering of Sir Brante — Chapter...</td>\n",
       "      <td>1 Dec, 2020</td>\n",
       "      <td>None</td>\n",
       "      <td>Free</td>\n",
       "      <td>None</td>\n",
       "    </tr>\n",
       "    <tr>\n",
       "      <th>248</th>\n",
       "      <td>Ninshi Masuta</td>\n",
       "      <td>Em breve</td>\n",
       "      <td>None</td>\n",
       "      <td></td>\n",
       "      <td>None</td>\n",
       "    </tr>\n",
       "    <tr>\n",
       "      <th>249</th>\n",
       "      <td>Bloody Service</td>\n",
       "      <td>Game, Set, Machete!</td>\n",
       "      <td>None</td>\n",
       "      <td></td>\n",
       "      <td>None</td>\n",
       "    </tr>\n",
       "  </tbody>\n",
       "</table>\n",
       "<p>250 rows × 5 columns</p>\n",
       "</div>"
      ],
      "text/plain": [
       "                                                 title         release_date  \\\n",
       "0                                      GRAVITY SHIFTER          5 Dec, 2020   \n",
       "1                          Snowball Fight At Christmas          5 Dec, 2020   \n",
       "2                                           Astro Dash          5 Dec, 2020   \n",
       "3                                          Last of Ass          5 Dec, 2020   \n",
       "4                                              Puzzzle          5 Dec, 2020   \n",
       "..                                                 ...                  ...   \n",
       "245                           SPL: Skilled Pilots Live          1 Dec, 2020   \n",
       "246                      Brain Meltdown - Into Despair          1 Dec, 2020   \n",
       "247  The Life and Suffering of Sir Brante — Chapter...          1 Dec, 2020   \n",
       "248                                      Ninshi Masuta             Em breve   \n",
       "249                                     Bloody Service  Game, Set, Machete!   \n",
       "\n",
       "    discount   usual_price discounted_price  \n",
       "0       None        20,99€             None  \n",
       "1       -40%         3,29€            1,97€  \n",
       "2       -20%         3,29€            2,63€  \n",
       "3       -20%         2,39€            1,91€  \n",
       "4       None  Free To Play             None  \n",
       "..       ...           ...              ...  \n",
       "245     -20%        12,49€            9,99€  \n",
       "246     -20%         8,19€            6,55€  \n",
       "247     None          Free             None  \n",
       "248     None                           None  \n",
       "249     None                           None  \n",
       "\n",
       "[250 rows x 5 columns]"
      ]
     },
     "execution_count": 14,
     "metadata": {},
     "output_type": "execute_result"
    }
   ],
   "source": [
    "na_values = ['Free To Play', '', 'Free']"
   ]
  },
  {
   "cell_type": "code",
   "execution_count": null,
   "metadata": {},
   "outputs": [],
   "source": []
  }
 ],
 "metadata": {
  "kernelspec": {
   "display_name": "Python 3",
   "language": "python",
   "name": "python3"
  },
  "language_info": {
   "codemirror_mode": {
    "name": "ipython",
    "version": 3
   },
   "file_extension": ".py",
   "mimetype": "text/x-python",
   "name": "python",
   "nbconvert_exporter": "python",
   "pygments_lexer": "ipython3",
   "version": "3.7.6"
  }
 },
 "nbformat": 4,
 "nbformat_minor": 4
}
