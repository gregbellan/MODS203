{
 "cells": [
  {
   "cell_type": "code",
   "execution_count": 1,
   "metadata": {},
   "outputs": [],
   "source": [
    "import numpy as np\n",
    "import pandas as pd\n",
    "import statsmodels.api as sm\n",
    "import matplotlib.pyplot as plt\n",
    "from mpl_toolkits import mplot3d"
   ]
  },
  {
   "cell_type": "markdown",
   "metadata": {},
   "source": [
    "## Preparation of the variables"
   ]
  },
  {
   "cell_type": "code",
   "execution_count": 25,
   "metadata": {},
   "outputs": [],
   "source": [
    "# Import of observations\n",
    "df = pd.read_csv('formated_data_new.csv')\n",
    "# Declaration of variables for the linear regressions\n",
    "prices = df['Current price in €']\n",
    "nb_reviews = df['Number of reviews']\n",
    "positive_rate = df['Positive rate in reviews in %']\n",
    "steamDB_score = df['SteamDB score in %']\n",
    "# Use the log of the steamDB score to ease the interpretation of coefficients\n",
    "# in linear regressions\n",
    "l_steamDB_score = np.log(steamDB_score)\n",
    "conf_class = df['Min configuration class']\n",
    "dates = df['Release date']\n",
    "genres = df['Genres']\n",
    "n = len(prices)\n",
    "const = np.ones(n)\n",
    "# Definition of binary variables\n",
    "class0 = conf_class==0\n",
    "class1 = conf_class==1\n",
    "class2 = conf_class==2\n",
    "class3 = conf_class==3\n",
    "action = genres.str.contains(\"Action\")\n",
    "adventure = genres.str.contains(\"Adventure\")\n",
    "rpg = genres.str.contains(\"RPG\")\n",
    "indie = genres.str.contains(\"Indie\")\n",
    "strategy = genres.str.contains(\"Strategy\")\n",
    "simulation = genres.str.contains(\"Simulation\")\n",
    "casual = genres.str.contains(\"Casual\")\n",
    "sports = genres.str.contains(\"Sports\")\n",
    "year_2016 = dates.str.contains(\"2016\")\n",
    "year_2017 = dates.str.contains(\"2017\")\n",
    "year_2018 = dates.str.contains(\"2018\")\n",
    "year_2019 = dates.str.contains(\"2019\")\n",
    "year_2020 = dates.str.contains(\"2020\")\n",
    "variables_names = ['const', 'prices', 'class1', 'class2', 'class3', 'adventure', 'rpg', \\\n",
    "                  'indie', 'strategy', 'simulation', 'casual', 'sports', 'year_2017', \\\n",
    "                  'year_2018', 'year_2019', 'year_2020']"
   ]
  },
  {
   "cell_type": "markdown",
   "metadata": {},
   "source": [
    "## Linear regression with all observations"
   ]
  },
  {
   "cell_type": "code",
   "execution_count": 14,
   "metadata": {},
   "outputs": [
    {
     "name": "stdout",
     "output_type": "stream",
     "text": [
      "                            OLS Regression Results                            \n",
      "==============================================================================\n",
      "Dep. Variable:     SteamDB score in %   R-squared:                       0.944\n",
      "Model:                            OLS   Adj. R-squared:                  0.944\n",
      "Method:                 Least Squares   F-statistic:                 7.175e+04\n",
      "Date:                Mon, 18 Jan 2021   Prob (F-statistic):               0.00\n",
      "Time:                        16:40:32   Log-Likelihood:                 25189.\n",
      "No. Observations:               17130   AIC:                        -5.037e+04\n",
      "Df Residuals:                   17125   BIC:                        -5.033e+04\n",
      "Df Model:                           4                                         \n",
      "Covariance Type:            nonrobust                                         \n",
      "==============================================================================\n",
      "                 coef    std err          t      P>|t|      [0.025      0.975]\n",
      "------------------------------------------------------------------------------\n",
      "const          3.3348      0.002   2068.445      0.000       3.332       3.338\n",
      "x1             0.0006   7.66e-05      7.710      0.000       0.000       0.001\n",
      "x2          5.525e-06   1.89e-07     29.297      0.000    5.16e-06    5.89e-06\n",
      "x3             0.0113   2.14e-05    526.476      0.000       0.011       0.011\n",
      "x4             0.0006      0.000      1.347      0.178      -0.000       0.001\n",
      "==============================================================================\n",
      "Omnibus:                     3254.994   Durbin-Watson:                   1.948\n",
      "Prob(Omnibus):                  0.000   Jarque-Bera (JB):            24222.595\n",
      "Skew:                          -0.715   Prob(JB):                         0.00\n",
      "Kurtosis:                       8.647   Cond. No.                     8.75e+03\n",
      "==============================================================================\n",
      "\n",
      "Warnings:\n",
      "[1] Standard Errors assume that the covariance matrix of the errors is correctly specified.\n",
      "[2] The condition number is large, 8.75e+03. This might indicate that there are\n",
      "strong multicollinearity or other numerical problems.\n"
     ]
    }
   ],
   "source": [
    "X = np.column_stack((const, prices, nb_reviews, positive_rate, conf_class))\n",
    "results = sm.OLS(l_steamDB_score, X).fit()\n",
    "print(results.summary())"
   ]
  },
  {
   "cell_type": "markdown",
   "metadata": {},
   "source": [
    "The SteamDB score depends both on the number of reviews and their positivity rate. Therefore, nb_reviews, positive_rate are correlated to the variable steamDB_score. We will then not use them in the rest of our study."
   ]
  },
  {
   "cell_type": "markdown",
   "metadata": {},
   "source": [
    "## Linear regression with binary variables"
   ]
  },
  {
   "cell_type": "markdown",
   "metadata": {},
   "source": [
    "We use 12 binary variables:\n",
    "- 4 variables for the configuration class: class0, class1, class2 and class3\n",
    "- 8 variables for the genres: action, adventure, rpg, indie, strategy, simulation, casual and sports."
   ]
  },
  {
   "cell_type": "code",
   "execution_count": 28,
   "metadata": {},
   "outputs": [
    {
     "name": "stdout",
     "output_type": "stream",
     "text": [
      "                            OLS Regression Results                            \n",
      "==============================================================================\n",
      "Dep. Variable:     SteamDB score in %   R-squared:                       0.034\n",
      "Model:                            OLS   Adj. R-squared:                  0.033\n",
      "Method:                 Least Squares   F-statistic:                     40.03\n",
      "Date:                Mon, 18 Jan 2021   Prob (F-statistic):          4.05e-116\n",
      "Time:                        17:05:21   Log-Likelihood:                 842.91\n",
      "No. Observations:               17130   AIC:                            -1654.\n",
      "Df Residuals:                   17114   BIC:                            -1530.\n",
      "Df Model:                          15                                         \n",
      "Covariance Type:            nonrobust                                         \n",
      "==============================================================================\n",
      "                 coef    std err          t      P>|t|      [0.025      0.975]\n",
      "------------------------------------------------------------------------------\n",
      "const          4.1071      0.007    559.235      0.000       4.093       4.122\n",
      "prices         0.0044      0.000     13.458      0.000       0.004       0.005\n",
      "class1        -0.0135      0.005     -2.988      0.003      -0.022      -0.005\n",
      "class2        -0.0182      0.005     -3.372      0.001      -0.029      -0.008\n",
      "class3        -0.0549      0.007     -8.059      0.000      -0.068      -0.042\n",
      "adventure      0.0002      0.004      0.043      0.966      -0.007       0.008\n",
      "rpg            0.0076      0.005      1.580      0.114      -0.002       0.017\n",
      "indie          0.0286      0.004      6.849      0.000       0.020       0.037\n",
      "strategy      -0.0199      0.005     -4.252      0.000      -0.029      -0.011\n",
      "simulation    -0.0291      0.005     -6.452      0.000      -0.038      -0.020\n",
      "casual        -0.0023      0.004     -0.632      0.528      -0.010       0.005\n",
      "sports        -0.0250      0.008     -3.055      0.002      -0.041      -0.009\n",
      "year_2017     -0.0093      0.007     -1.299      0.194      -0.023       0.005\n",
      "year_2018     -0.0212      0.007     -3.004      0.003      -0.035      -0.007\n",
      "year_2019      0.0191      0.007      2.771      0.006       0.006       0.033\n",
      "year_2020      0.0531      0.007      7.196      0.000       0.039       0.068\n",
      "==============================================================================\n",
      "Omnibus:                     1560.341   Durbin-Watson:                   1.951\n",
      "Prob(Omnibus):                  0.000   Jarque-Bera (JB):             2042.051\n",
      "Skew:                          -0.789   Prob(JB):                         0.00\n",
      "Kurtosis:                       3.609   Cond. No.                         55.5\n",
      "==============================================================================\n",
      "\n",
      "Warnings:\n",
      "[1] Standard Errors assume that the covariance matrix of the errors is correctly specified.\n"
     ]
    }
   ],
   "source": [
    "X_bin = np.column_stack((const, prices, class1, class2, class3, adventure, \\\n",
    "                         rpg, indie, strategy, simulation, casual, sports, \\\n",
    "                         year_2017, year_2018, year_2019, year_2020))\n",
    "results_bin = sm.OLS(l_steamDB_score, X_bin).fit()\n",
    "print(results_bin.summary(xname=variables_names))"
   ]
  },
  {
   "cell_type": "code",
   "execution_count": null,
   "metadata": {},
   "outputs": [],
   "source": []
  }
 ],
 "metadata": {
  "celltoolbar": "Aucun(e)",
  "kernelspec": {
   "display_name": "Python 3",
   "language": "python",
   "name": "python3"
  },
  "language_info": {
   "codemirror_mode": {
    "name": "ipython",
    "version": 3
   },
   "file_extension": ".py",
   "mimetype": "text/x-python",
   "name": "python",
   "nbconvert_exporter": "python",
   "pygments_lexer": "ipython3",
   "version": "3.7.3"
  },
  "toc": {
   "base_numbering": 1,
   "nav_menu": {},
   "number_sections": true,
   "sideBar": true,
   "skip_h1_title": false,
   "title_cell": "Table of Contents",
   "title_sidebar": "Contents",
   "toc_cell": false,
   "toc_position": {},
   "toc_section_display": true,
   "toc_window_display": false
  },
  "varInspector": {
   "cols": {
    "lenName": 16,
    "lenType": 16,
    "lenVar": 40
   },
   "kernels_config": {
    "python": {
     "delete_cmd_postfix": "",
     "delete_cmd_prefix": "del ",
     "library": "var_list.py",
     "varRefreshCmd": "print(var_dic_list())"
    },
    "r": {
     "delete_cmd_postfix": ") ",
     "delete_cmd_prefix": "rm(",
     "library": "var_list.r",
     "varRefreshCmd": "cat(var_dic_list()) "
    }
   },
   "oldHeight": 262,
   "position": {
    "height": "284px",
    "left": "800px",
    "right": "20px",
    "top": "120px",
    "width": "341px"
   },
   "types_to_exclude": [
    "module",
    "function",
    "builtin_function_or_method",
    "instance",
    "_Feature"
   ],
   "varInspector_section_display": "block",
   "window_display": false
  }
 },
 "nbformat": 4,
 "nbformat_minor": 4
}
